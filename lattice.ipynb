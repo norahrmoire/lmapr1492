{
 "cells": [
  {
   "cell_type": "code",
   "execution_count": 65,
   "id": "8e41b492",
   "metadata": {},
   "outputs": [
    {
     "name": "stdout",
     "output_type": "stream",
     "text": [
      "Defaulting to user installation because normal site-packages is not writeable\n",
      "Requirement already satisfied: mp-api in /home/norah/.local/lib/python3.10/site-packages (0.40.1)\n",
      "Requirement already satisfied: setuptools in /usr/lib/python3/dist-packages (from mp-api) (59.6.0)\n",
      "Requirement already satisfied: pymatgen<2024.2.20,>=2022.3.7 in /home/norah/.local/lib/python3.10/site-packages (from mp-api) (2024.2.8)\n",
      "Requirement already satisfied: typing-extensions>=3.7.4.1 in /home/norah/.local/lib/python3.10/site-packages (from mp-api) (4.8.0)\n",
      "Requirement already satisfied: requests>=2.23.0 in /home/norah/.local/lib/python3.10/site-packages (from mp-api) (2.31.0)\n",
      "Requirement already satisfied: msgpack in /home/norah/.local/lib/python3.10/site-packages (from mp-api) (1.0.7)\n",
      "Requirement already satisfied: maggma>=0.57.1 in /home/norah/.local/lib/python3.10/site-packages (from mp-api) (0.63.3)\n",
      "Requirement already satisfied: emmet-core>=0.78.0rc3 in /home/norah/.local/lib/python3.10/site-packages (from mp-api) (0.78.0rc4)\n",
      "Requirement already satisfied: monty>=2023.9.25 in /home/norah/.local/lib/python3.10/site-packages (from mp-api) (2024.2.2)\n",
      "Requirement already satisfied: pydantic>=2.0 in /home/norah/.local/lib/python3.10/site-packages (from emmet-core>=0.78.0rc3->mp-api) (2.6.2)\n",
      "Requirement already satisfied: pybtex~=0.24 in /home/norah/.local/lib/python3.10/site-packages (from emmet-core>=0.78.0rc3->mp-api) (0.24.0)\n",
      "Requirement already satisfied: pydantic-settings>=2.0 in /home/norah/.local/lib/python3.10/site-packages (from emmet-core>=0.78.0rc3->mp-api) (2.2.1)\n",
      "Requirement already satisfied: fastapi>=0.42.0 in /home/norah/.local/lib/python3.10/site-packages (from maggma>=0.57.1->mp-api) (0.110.0)\n",
      "Requirement already satisfied: pydash>=4.1.0 in /home/norah/.local/lib/python3.10/site-packages (from maggma>=0.57.1->mp-api) (7.0.7)\n",
      "Requirement already satisfied: jsonschema>=3.1.1 in /home/norah/.local/lib/python3.10/site-packages (from maggma>=0.57.1->mp-api) (4.19.1)\n",
      "Requirement already satisfied: sshtunnel>=0.1.5 in /home/norah/.local/lib/python3.10/site-packages (from maggma>=0.57.1->mp-api) (0.4.0)\n",
      "Requirement already satisfied: ruamel.yaml<0.18 in /home/norah/.local/lib/python3.10/site-packages (from maggma>=0.57.1->mp-api) (0.17.40)\n",
      "Requirement already satisfied: pyzmq>=24.0.1 in /home/norah/.local/lib/python3.10/site-packages (from maggma>=0.57.1->mp-api) (25.1.1)\n",
      "Requirement already satisfied: python-dateutil>=2.8.2 in /home/norah/.local/lib/python3.10/site-packages (from maggma>=0.57.1->mp-api) (2.8.2)\n",
      "Requirement already satisfied: mongomock>=3.10.0 in /home/norah/.local/lib/python3.10/site-packages (from maggma>=0.57.1->mp-api) (4.1.2)\n",
      "Requirement already satisfied: tqdm>=4.19.6 in /home/norah/.local/lib/python3.10/site-packages (from maggma>=0.57.1->mp-api) (4.66.2)\n",
      "Requirement already satisfied: numpy>=1.17.3 in /home/norah/.local/lib/python3.10/site-packages (from maggma>=0.57.1->mp-api) (1.26.4)\n",
      "Requirement already satisfied: aioitertools>=0.5.1 in /home/norah/.local/lib/python3.10/site-packages (from maggma>=0.57.1->mp-api) (0.11.0)\n",
      "Requirement already satisfied: uvicorn>=0.18.3 in /home/norah/.local/lib/python3.10/site-packages (from maggma>=0.57.1->mp-api) (0.27.1)\n",
      "Requirement already satisfied: pymongo>=4.2.0 in /home/norah/.local/lib/python3.10/site-packages (from maggma>=0.57.1->mp-api) (4.6.2)\n",
      "Requirement already satisfied: orjson>=3.9.0 in /home/norah/.local/lib/python3.10/site-packages (from maggma>=0.57.1->mp-api) (3.9.15)\n",
      "Requirement already satisfied: boto3>=1.20.41 in /home/norah/.local/lib/python3.10/site-packages (from maggma>=0.57.1->mp-api) (1.34.49)\n",
      "Requirement already satisfied: dnspython>=1.16.0 in /home/norah/.local/lib/python3.10/site-packages (from maggma>=0.57.1->mp-api) (2.6.1)\n",
      "Requirement already satisfied: mongogrant>=0.3.1 in /home/norah/.local/lib/python3.10/site-packages (from maggma>=0.57.1->mp-api) (0.3.3)\n",
      "Requirement already satisfied: uncertainties>=3.1.4 in /home/norah/.local/lib/python3.10/site-packages (from pymatgen<2024.2.20,>=2022.3.7->mp-api) (3.1.7)\n",
      "Requirement already satisfied: pandas in /home/norah/.local/lib/python3.10/site-packages (from pymatgen<2024.2.20,>=2022.3.7->mp-api) (2.1.1)\n",
      "Requirement already satisfied: scipy>=1.5.0 in /home/norah/.local/lib/python3.10/site-packages (from pymatgen<2024.2.20,>=2022.3.7->mp-api) (1.11.3)\n",
      "Requirement already satisfied: tabulate in /home/norah/.local/lib/python3.10/site-packages (from pymatgen<2024.2.20,>=2022.3.7->mp-api) (0.9.0)\n",
      "Requirement already satisfied: matplotlib>=1.5 in /home/norah/.local/lib/python3.10/site-packages (from pymatgen<2024.2.20,>=2022.3.7->mp-api) (3.7.0)\n",
      "Requirement already satisfied: joblib in /home/norah/.local/lib/python3.10/site-packages (from pymatgen<2024.2.20,>=2022.3.7->mp-api) (1.3.2)\n",
      "Requirement already satisfied: palettable>=3.1.1 in /home/norah/.local/lib/python3.10/site-packages (from pymatgen<2024.2.20,>=2022.3.7->mp-api) (3.3.3)\n",
      "Requirement already satisfied: spglib>=2.0.2 in /home/norah/.local/lib/python3.10/site-packages (from pymatgen<2024.2.20,>=2022.3.7->mp-api) (2.3.1)\n",
      "Requirement already satisfied: networkx>=2.2 in /home/norah/.local/lib/python3.10/site-packages (from pymatgen<2024.2.20,>=2022.3.7->mp-api) (3.2.1)\n",
      "Requirement already satisfied: plotly>=4.5.0 in /home/norah/.local/lib/python3.10/site-packages (from pymatgen<2024.2.20,>=2022.3.7->mp-api) (5.18.0)\n",
      "Requirement already satisfied: sympy in /home/norah/.local/lib/python3.10/site-packages (from pymatgen<2024.2.20,>=2022.3.7->mp-api) (1.12)\n",
      "Requirement already satisfied: idna<4,>=2.5 in /usr/lib/python3/dist-packages (from requests>=2.23.0->mp-api) (3.3)\n",
      "Requirement already satisfied: charset-normalizer<4,>=2 in /home/norah/.local/lib/python3.10/site-packages (from requests>=2.23.0->mp-api) (3.3.0)\n",
      "Requirement already satisfied: certifi>=2017.4.17 in /usr/lib/python3/dist-packages (from requests>=2.23.0->mp-api) (2020.6.20)\n",
      "Requirement already satisfied: urllib3<3,>=1.21.1 in /usr/lib/python3/dist-packages (from requests>=2.23.0->mp-api) (1.26.5)\n",
      "Requirement already satisfied: s3transfer<0.11.0,>=0.10.0 in /home/norah/.local/lib/python3.10/site-packages (from boto3>=1.20.41->maggma>=0.57.1->mp-api) (0.10.0)\n",
      "Requirement already satisfied: botocore<1.35.0,>=1.34.49 in /home/norah/.local/lib/python3.10/site-packages (from boto3>=1.20.41->maggma>=0.57.1->mp-api) (1.34.49)\n",
      "Requirement already satisfied: jmespath<2.0.0,>=0.7.1 in /home/norah/.local/lib/python3.10/site-packages (from boto3>=1.20.41->maggma>=0.57.1->mp-api) (1.0.1)\n",
      "Requirement already satisfied: starlette<0.37.0,>=0.36.3 in /home/norah/.local/lib/python3.10/site-packages (from fastapi>=0.42.0->maggma>=0.57.1->mp-api) (0.36.3)\n",
      "Requirement already satisfied: referencing>=0.28.4 in /home/norah/.local/lib/python3.10/site-packages (from jsonschema>=3.1.1->maggma>=0.57.1->mp-api) (0.30.2)\n",
      "Requirement already satisfied: jsonschema-specifications>=2023.03.6 in /home/norah/.local/lib/python3.10/site-packages (from jsonschema>=3.1.1->maggma>=0.57.1->mp-api) (2023.7.1)\n",
      "Requirement already satisfied: attrs>=22.2.0 in /home/norah/.local/lib/python3.10/site-packages (from jsonschema>=3.1.1->maggma>=0.57.1->mp-api) (23.1.0)\n",
      "Requirement already satisfied: rpds-py>=0.7.1 in /home/norah/.local/lib/python3.10/site-packages (from jsonschema>=3.1.1->maggma>=0.57.1->mp-api) (0.10.6)\n",
      "Requirement already satisfied: cycler>=0.10 in /home/norah/.local/lib/python3.10/site-packages (from matplotlib>=1.5->pymatgen<2024.2.20,>=2022.3.7->mp-api) (0.11.0)\n",
      "Requirement already satisfied: fonttools>=4.22.0 in /home/norah/.local/lib/python3.10/site-packages (from matplotlib>=1.5->pymatgen<2024.2.20,>=2022.3.7->mp-api) (4.38.0)\n",
      "Requirement already satisfied: packaging>=20.0 in /home/norah/.local/lib/python3.10/site-packages (from matplotlib>=1.5->pymatgen<2024.2.20,>=2022.3.7->mp-api) (23.0)\n",
      "Requirement already satisfied: pyparsing>=2.3.1 in /usr/lib/python3/dist-packages (from matplotlib>=1.5->pymatgen<2024.2.20,>=2022.3.7->mp-api) (2.4.7)\n",
      "Requirement already satisfied: kiwisolver>=1.0.1 in /home/norah/.local/lib/python3.10/site-packages (from matplotlib>=1.5->pymatgen<2024.2.20,>=2022.3.7->mp-api) (1.4.4)\n",
      "Requirement already satisfied: pillow>=6.2.0 in /usr/lib/python3/dist-packages (from matplotlib>=1.5->pymatgen<2024.2.20,>=2022.3.7->mp-api) (9.0.1)\n",
      "Requirement already satisfied: contourpy>=1.0.1 in /home/norah/.local/lib/python3.10/site-packages (from matplotlib>=1.5->pymatgen<2024.2.20,>=2022.3.7->mp-api) (1.0.7)\n",
      "Requirement already satisfied: Click in /home/norah/.local/lib/python3.10/site-packages (from mongogrant>=0.3.1->maggma>=0.57.1->mp-api) (8.1.7)\n",
      "Requirement already satisfied: Flask>=1.0 in /home/norah/.local/lib/python3.10/site-packages (from mongogrant>=0.3.1->maggma>=0.57.1->mp-api) (3.0.2)\n",
      "Requirement already satisfied: sentinels in /home/norah/.local/lib/python3.10/site-packages (from mongomock>=3.10.0->maggma>=0.57.1->mp-api) (1.0.0)\n",
      "Requirement already satisfied: tenacity>=6.2.0 in /home/norah/.local/lib/python3.10/site-packages (from plotly>=4.5.0->pymatgen<2024.2.20,>=2022.3.7->mp-api) (8.2.3)\n",
      "Requirement already satisfied: PyYAML>=3.01 in /usr/lib/python3/dist-packages (from pybtex~=0.24->emmet-core>=0.78.0rc3->mp-api) (5.4.1)\n",
      "Requirement already satisfied: latexcodec>=1.0.4 in /home/norah/.local/lib/python3.10/site-packages (from pybtex~=0.24->emmet-core>=0.78.0rc3->mp-api) (2.0.1)\n",
      "Requirement already satisfied: six in /usr/lib/python3/dist-packages (from pybtex~=0.24->emmet-core>=0.78.0rc3->mp-api) (1.16.0)\n",
      "Requirement already satisfied: annotated-types>=0.4.0 in /home/norah/.local/lib/python3.10/site-packages (from pydantic>=2.0->emmet-core>=0.78.0rc3->mp-api) (0.6.0)\n",
      "Requirement already satisfied: pydantic-core==2.16.3 in /home/norah/.local/lib/python3.10/site-packages (from pydantic>=2.0->emmet-core>=0.78.0rc3->mp-api) (2.16.3)\n",
      "Requirement already satisfied: python-dotenv>=0.21.0 in /home/norah/.local/lib/python3.10/site-packages (from pydantic-settings>=2.0->emmet-core>=0.78.0rc3->mp-api) (1.0.1)\n",
      "Requirement already satisfied: ruamel.yaml.clib>=0.2.7 in /home/norah/.local/lib/python3.10/site-packages (from ruamel.yaml<0.18->maggma>=0.57.1->mp-api) (0.2.8)\n",
      "Requirement already satisfied: paramiko>=2.7.2 in /usr/lib/python3/dist-packages (from sshtunnel>=0.1.5->maggma>=0.57.1->mp-api) (2.9.3)\n",
      "Requirement already satisfied: future in /usr/lib/python3/dist-packages (from uncertainties>=3.1.4->pymatgen<2024.2.20,>=2022.3.7->mp-api) (0.18.2)\n",
      "Requirement already satisfied: h11>=0.8 in /home/norah/.local/lib/python3.10/site-packages (from uvicorn>=0.18.3->maggma>=0.57.1->mp-api) (0.14.0)\n",
      "Requirement already satisfied: tzdata>=2022.1 in /home/norah/.local/lib/python3.10/site-packages (from pandas->pymatgen<2024.2.20,>=2022.3.7->mp-api) (2023.3)\n",
      "Requirement already satisfied: pytz>=2020.1 in /usr/lib/python3/dist-packages (from pandas->pymatgen<2024.2.20,>=2022.3.7->mp-api) (2022.1)\n",
      "Requirement already satisfied: mpmath>=0.19 in /home/norah/.local/lib/python3.10/site-packages (from sympy->pymatgen<2024.2.20,>=2022.3.7->mp-api) (1.3.0)\n",
      "Requirement already satisfied: Werkzeug>=3.0.0 in /home/norah/.local/lib/python3.10/site-packages (from Flask>=1.0->mongogrant>=0.3.1->maggma>=0.57.1->mp-api) (3.0.1)\n",
      "Requirement already satisfied: itsdangerous>=2.1.2 in /home/norah/.local/lib/python3.10/site-packages (from Flask>=1.0->mongogrant>=0.3.1->maggma>=0.57.1->mp-api) (2.1.2)\n",
      "Requirement already satisfied: Jinja2>=3.1.2 in /home/norah/.local/lib/python3.10/site-packages (from Flask>=1.0->mongogrant>=0.3.1->maggma>=0.57.1->mp-api) (3.1.2)\n",
      "Requirement already satisfied: blinker>=1.6.2 in /home/norah/.local/lib/python3.10/site-packages (from Flask>=1.0->mongogrant>=0.3.1->maggma>=0.57.1->mp-api) (1.7.0)\n",
      "Requirement already satisfied: anyio<5,>=3.4.0 in /home/norah/.local/lib/python3.10/site-packages (from starlette<0.37.0,>=0.36.3->fastapi>=0.42.0->maggma>=0.57.1->mp-api) (4.0.0)\n",
      "Requirement already satisfied: exceptiongroup>=1.0.2 in /home/norah/.local/lib/python3.10/site-packages (from anyio<5,>=3.4.0->starlette<0.37.0,>=0.36.3->fastapi>=0.42.0->maggma>=0.57.1->mp-api) (1.1.3)\n",
      "Requirement already satisfied: sniffio>=1.1 in /home/norah/.local/lib/python3.10/site-packages (from anyio<5,>=3.4.0->starlette<0.37.0,>=0.36.3->fastapi>=0.42.0->maggma>=0.57.1->mp-api) (1.3.0)\n",
      "Requirement already satisfied: MarkupSafe>=2.0 in /home/norah/.local/lib/python3.10/site-packages (from Jinja2>=3.1.2->Flask>=1.0->mongogrant>=0.3.1->maggma>=0.57.1->mp-api) (2.1.5)\n"
     ]
    }
   ],
   "source": [
    "!pip install mp-api --upgrade\n",
    "import numpy as np\n",
    "from mp_api.client import MPRester\n",
    "#from pymatgen.ext.matproj import MPRester\n",
    "from pymatgen.core.operations import SymmOp\n",
    "from pymatgen.symmetry.analyzer import SpacegroupAnalyzer\n",
    "from pymatgen.electronic_structure.plotter import BSPlotter\n",
    "from pymatgen.phonon.plotter import PhononBSPlotter\n",
    "from jupyter_jsmol.pymatgen import quick_view\n",
    "from lmapr1492 import plot_brillouin_zone, get_plot_bs, get_plot_dos, get_plot_bs_and_dos, get_branch_wavevectors\n",
    "from plotly.subplots import make_subplots\n",
    "import plotly.graph_objects as go"
   ]
  },
  {
   "cell_type": "code",
   "execution_count": 66,
   "id": "68479a66",
   "metadata": {},
   "outputs": [],
   "source": [
    "mp_key = \"kqoGOG3L85VvUgz1hujhLArYSrmj87fq\"\n",
    "mp_id = \"mp-10182\""
   ]
  },
  {
   "cell_type": "code",
   "execution_count": 67,
   "id": "f312daca",
   "metadata": {},
   "outputs": [
    {
     "data": {
      "application/vnd.jupyter.widget-view+json": {
       "model_id": "14766aa117a049ab829ddb535f09a4e6",
       "version_major": 2,
       "version_minor": 0
      },
      "text/plain": [
       "Retrieving MaterialsDoc documents:   0%|          | 0/1 [00:00<?, ?it/s]"
      ]
     },
     "metadata": {},
     "output_type": "display_data"
    },
    {
     "data": {
      "application/vnd.jupyter.widget-view+json": {
       "model_id": "85bc5cb9334d4534ab52ecb62a66cec8",
       "version_major": 2,
       "version_minor": 0
      },
      "text/plain": [
       "Retrieving ElectronicStructureDoc documents:   0%|          | 0/1 [00:00<?, ?it/s]"
      ]
     },
     "metadata": {},
     "output_type": "display_data"
    },
    {
     "data": {
      "application/vnd.jupyter.widget-view+json": {
       "model_id": "2dc6954935f84de58c81445523371d06",
       "version_major": 2,
       "version_minor": 0
      },
      "text/plain": [
       "Retrieving ElectronicStructureDoc documents:   0%|          | 0/1 [00:00<?, ?it/s]"
      ]
     },
     "metadata": {},
     "output_type": "display_data"
    },
    {
     "data": {
      "application/vnd.jupyter.widget-view+json": {
       "model_id": "7682935c0a47463e9d5abb2a885b2242",
       "version_major": 2,
       "version_minor": 0
      },
      "text/plain": [
       "Retrieving PhononBSDOSDoc documents:   0%|          | 0/1 [00:00<?, ?it/s]"
      ]
     },
     "metadata": {},
     "output_type": "display_data"
    },
    {
     "data": {
      "application/vnd.jupyter.widget-view+json": {
       "model_id": "a2d5fa7961c34b499332dfc8a90c3a4b",
       "version_major": 2,
       "version_minor": 0
      },
      "text/plain": [
       "Retrieving PhononBSDOSDoc documents:   0%|          | 0/1 [00:00<?, ?it/s]"
      ]
     },
     "metadata": {},
     "output_type": "display_data"
    }
   ],
   "source": [
    "with MPRester(mp_key) as m:\n",
    "    prim_struc = m.get_structure_by_material_id(mp_id)\n",
    "    el_bs = m.get_bandstructure_by_material_id(mp_id)\n",
    "    el_dos = m.get_dos_by_material_id(mp_id)\n",
    "    ph_bs = m.get_phonon_bandstructure_by_material_id(mp_id)\n",
    "    ph_dos = m.get_phonon_dos_by_material_id(mp_id)\n",
    "conv_struc = SpacegroupAnalyzer(prim_struc).get_conventional_standard_structure()\n",
    "symmops = SpacegroupAnalyzer(conv_struc).get_space_group_operations()"
   ]
  },
  {
   "cell_type": "markdown",
   "id": "bf0d4d1f",
   "metadata": {},
   "source": [
    "# Vecteurs de base du réseau direct"
   ]
  },
  {
   "cell_type": "code",
   "execution_count": 68,
   "id": "ba060a4a",
   "metadata": {},
   "outputs": [
    {
     "name": "stdout",
     "output_type": "stream",
     "text": [
      "Vecteurs de base du réseau direct :\n",
      "a =  [3.49053813 0.         2.01526285]\n",
      "b =  [1.16351338 3.29091073 2.01526285]\n",
      "c =  [0.        0.        4.0305247]\n"
     ]
    }
   ],
   "source": [
    "lattice = prim_struc.lattice\n",
    "print(\"Vecteurs de base du réseau direct :\")\n",
    "print(\"a = \", lattice.matrix[0])\n",
    "print(\"b = \", lattice.matrix[1])\n",
    "print(\"c = \", lattice.matrix[2])"
   ]
  },
  {
   "cell_type": "markdown",
   "id": "30e160f7",
   "metadata": {},
   "source": [
    "# Vecteurs de base du réseau réciproque"
   ]
  },
  {
   "cell_type": "code",
   "execution_count": 69,
   "id": "390f65df",
   "metadata": {},
   "outputs": [
    {
     "name": "stdout",
     "output_type": "stream",
     "text": [
      "Vecteurs de base du réseau réciproque :\n",
      "a* =  [ 1.80006207 -0.63641845  0.        ]\n",
      "b* =  [0.         1.90925425 0.        ]\n",
      "c* =  [-0.90003126 -0.63641806  1.55890009]\n"
     ]
    }
   ],
   "source": [
    "lattice_reciproque = prim_struc.lattice.reciprocal_lattice\n",
    "print(\"Vecteurs de base du réseau réciproque :\")\n",
    "print(\"a* = \", lattice_reciproque.matrix[0])\n",
    "print(\"b* = \", lattice_reciproque.matrix[1])\n",
    "print(\"c* = \", lattice_reciproque.matrix[2])"
   ]
  },
  {
   "cell_type": "markdown",
   "id": "418a81e6",
   "metadata": {},
   "source": [
    "# Type de maille"
   ]
  },
  {
   "cell_type": "code",
   "execution_count": 70,
   "id": "6237c93d",
   "metadata": {},
   "outputs": [
    {
     "name": "stdout",
     "output_type": "stream",
     "text": [
      "Type de maille : F\n"
     ]
    }
   ],
   "source": [
    "n = SpacegroupAnalyzer(prim_struc).get_space_group_symbol()[0]\n",
    "print(\"Type de maille :\", n)"
   ]
  },
  {
   "cell_type": "markdown",
   "id": "de1c7d66",
   "metadata": {},
   "source": [
    "La maille est donc faces centrées."
   ]
  },
  {
   "cell_type": "markdown",
   "id": "7af3865b",
   "metadata": {},
   "source": [
    "# Système cristallin"
   ]
  },
  {
   "cell_type": "code",
   "execution_count": 71,
   "id": "7c7fa571",
   "metadata": {},
   "outputs": [
    {
     "name": "stdout",
     "output_type": "stream",
     "text": [
      "Système cristallin : cubic\n"
     ]
    }
   ],
   "source": [
    "systeme_cristallin = SpacegroupAnalyzer(prim_struc).get_crystal_system()\n",
    "print(\"Système cristallin :\", systeme_cristallin)"
   ]
  },
  {
   "cell_type": "markdown",
   "id": "16da64d1",
   "metadata": {},
   "source": [
    "# Groupe ponctuel"
   ]
  },
  {
   "cell_type": "code",
   "execution_count": 72,
   "id": "0643d559",
   "metadata": {},
   "outputs": [
    {
     "name": "stdout",
     "output_type": "stream",
     "text": [
      "Groupe ponctuel : -43m\n"
     ]
    }
   ],
   "source": [
    "groupe_ponctuel = SpacegroupAnalyzer(prim_struc).get_point_group_symbol()\n",
    "print(\"Groupe ponctuel :\", groupe_ponctuel)"
   ]
  }
 ],
 "metadata": {
  "kernelspec": {
   "display_name": "Python 3 (ipykernel)",
   "language": "python",
   "name": "python3"
  },
  "language_info": {
   "codemirror_mode": {
    "name": "ipython",
    "version": 3
   },
   "file_extension": ".py",
   "mimetype": "text/x-python",
   "name": "python",
   "nbconvert_exporter": "python",
   "pygments_lexer": "ipython3",
   "version": "3.10.12"
  }
 },
 "nbformat": 4,
 "nbformat_minor": 5
}
