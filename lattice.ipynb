{
 "cells": [
  {
   "cell_type": "code",
   "execution_count": 1,
   "id": "8e41b492",
   "metadata": {},
   "outputs": [],
   "source": [
    "import numpy as np\n",
    "from mp_api.client import MPRester\n",
    "from pymatgen.symmetry.analyzer import SpacegroupAnalyzer"
   ]
  },
  {
   "cell_type": "code",
   "execution_count": 2,
   "id": "68479a66",
   "metadata": {},
   "outputs": [],
   "source": [
    "mp_key = \"kqoGOG3L85VvUgz1hujhLArYSrmj87fq\"\n",
    "mp_id = \"mp-10182\""
   ]
  },
  {
   "cell_type": "code",
   "execution_count": 3,
   "id": "f312daca",
   "metadata": {},
   "outputs": [
    {
     "data": {
      "application/vnd.jupyter.widget-view+json": {
       "model_id": "2e2a2ba7bbbd449a8e87577e8b1805fe",
       "version_major": 2,
       "version_minor": 0
      },
      "text/plain": [
       "Retrieving MaterialsDoc documents:   0%|          | 0/1 [00:00<?, ?it/s]"
      ]
     },
     "metadata": {},
     "output_type": "display_data"
    }
   ],
   "source": [
    "with MPRester(mp_key) as m:\n",
    "    prim_struc = m.get_structure_by_material_id(mp_id)"
   ]
  },
  {
   "cell_type": "markdown",
   "id": "bf0d4d1f",
   "metadata": {},
   "source": [
    "# Vecteurs de base du réseau direct"
   ]
  },
  {
   "cell_type": "code",
   "execution_count": 4,
   "id": "ba060a4a",
   "metadata": {},
   "outputs": [
    {
     "name": "stdout",
     "output_type": "stream",
     "text": [
      "Vecteurs de base du réseau direct :\n",
      "a =  [3.49053813 0.         2.01526285]\n",
      "b =  [1.16351338 3.29091073 2.01526285]\n",
      "c =  [0.        0.        4.0305247]\n"
     ]
    }
   ],
   "source": [
    "lattice = prim_struc.lattice\n",
    "print(\"Vecteurs de base du réseau direct :\")\n",
    "print(\"a = \", lattice.matrix[0])\n",
    "print(\"b = \", lattice.matrix[1])\n",
    "print(\"c = \", lattice.matrix[2])"
   ]
  },
  {
   "cell_type": "markdown",
   "id": "30e160f7",
   "metadata": {},
   "source": [
    "# Vecteurs de base du réseau réciproque"
   ]
  },
  {
   "cell_type": "code",
   "execution_count": 5,
   "id": "390f65df",
   "metadata": {},
   "outputs": [
    {
     "name": "stdout",
     "output_type": "stream",
     "text": [
      "Vecteurs de base du réseau réciproque :\n",
      "a* =  [ 1.80006207 -0.63641845  0.        ]\n",
      "b* =  [0.         1.90925425 0.        ]\n",
      "c* =  [-0.90003126 -0.63641806  1.55890009]\n"
     ]
    }
   ],
   "source": [
    "lattice_reciproque = prim_struc.lattice.reciprocal_lattice\n",
    "print(\"Vecteurs de base du réseau réciproque :\")\n",
    "print(\"a* = \", lattice_reciproque.matrix[0])\n",
    "print(\"b* = \", lattice_reciproque.matrix[1])\n",
    "print(\"c* = \", lattice_reciproque.matrix[2])"
   ]
  },
  {
   "cell_type": "markdown",
   "id": "418a81e6",
   "metadata": {},
   "source": [
    "# Type de maille"
   ]
  },
  {
   "cell_type": "code",
   "execution_count": 6,
   "id": "6237c93d",
   "metadata": {},
   "outputs": [
    {
     "name": "stdout",
     "output_type": "stream",
     "text": [
      "Type de maille : F\n"
     ]
    }
   ],
   "source": [
    "n = SpacegroupAnalyzer(prim_struc).get_space_group_symbol()[0]\n",
    "print(\"Type de maille :\", n)"
   ]
  },
  {
   "cell_type": "markdown",
   "id": "de1c7d66",
   "metadata": {},
   "source": [
    "La maille est donc faces centrées."
   ]
  },
  {
   "cell_type": "markdown",
   "id": "7af3865b",
   "metadata": {},
   "source": [
    "# Système cristallin"
   ]
  },
  {
   "cell_type": "code",
   "execution_count": 7,
   "id": "7c7fa571",
   "metadata": {},
   "outputs": [
    {
     "name": "stdout",
     "output_type": "stream",
     "text": [
      "Système cristallin : cubic\n"
     ]
    }
   ],
   "source": [
    "systeme_cristallin = SpacegroupAnalyzer(prim_struc).get_crystal_system()\n",
    "print(\"Système cristallin :\", systeme_cristallin)"
   ]
  },
  {
   "cell_type": "markdown",
   "id": "16da64d1",
   "metadata": {},
   "source": [
    "# Groupe ponctuel"
   ]
  },
  {
   "cell_type": "code",
   "execution_count": 8,
   "id": "0643d559",
   "metadata": {},
   "outputs": [
    {
     "name": "stdout",
     "output_type": "stream",
     "text": [
      "Groupe ponctuel : -43m\n"
     ]
    }
   ],
   "source": [
    "groupe_ponctuel = SpacegroupAnalyzer(prim_struc).get_point_group_symbol()\n",
    "print(\"Groupe ponctuel :\", groupe_ponctuel)"
   ]
  },
  {
   "cell_type": "markdown",
   "id": "a87479fc",
   "metadata": {},
   "source": [
    "La molécule est donc $F\\bar{43}m$ cubique. \n",
    "- $F$ : le réseau de Bravais est de type face centrée\n",
    "- $\\bar{4}$ : symétrie de rotation d'ordre 4 (90°)\n",
    "- $3$ : symétrie de rotation d'ordre 3 (120°)\n",
    "- $m$ : plan miroir"
   ]
  }
 ],
 "metadata": {
  "kernelspec": {
   "display_name": "Python 3 (ipykernel)",
   "language": "python",
   "name": "python3"
  },
  "language_info": {
   "codemirror_mode": {
    "name": "ipython",
    "version": 3
   },
   "file_extension": ".py",
   "mimetype": "text/x-python",
   "name": "python",
   "nbconvert_exporter": "python",
   "pygments_lexer": "ipython3",
   "version": "3.10.12"
  }
 },
 "nbformat": 4,
 "nbformat_minor": 5
}
