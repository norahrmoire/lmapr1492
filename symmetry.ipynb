{
 "cells": [
  {
   "cell_type": "code",
   "execution_count": 87,
   "id": "8e41b492",
   "metadata": {},
   "outputs": [],
   "source": [
    "import numpy as np\n",
    "from pymatgen.ext.matproj import MPRester\n",
    "from pymatgen.core.operations import SymmOp\n",
    "from pymatgen.symmetry.analyzer import SpacegroupAnalyzer\n",
    "from pymatgen.electronic_structure.plotter import BSPlotter\n",
    "from pymatgen.phonon.plotter import PhononBSPlotter\n",
    "from jupyter_jsmol.pymatgen import quick_view\n",
    "from lmapr1492 import plot_brillouin_zone, get_plot_bs, get_plot_dos, get_plot_bs_and_dos, get_branch_wavevectors\n",
    "from plotly.subplots import make_subplots\n",
    "import plotly.graph_objects as go"
   ]
  },
  {
   "cell_type": "code",
   "execution_count": 88,
   "id": "68479a66",
   "metadata": {},
   "outputs": [],
   "source": [
    "mp_key = \"kqoGOG3L85VvUgz1hujhLArYSrmj87fq\"\n",
    "mp_id = \"mp-10182\""
   ]
  },
  {
   "cell_type": "code",
   "execution_count": 89,
   "id": "f312daca",
   "metadata": {},
   "outputs": [
    {
     "data": {
      "application/vnd.jupyter.widget-view+json": {
       "model_id": "8424f51c97b24d8186ddddb917e6abb3",
       "version_major": 2,
       "version_minor": 0
      },
      "text/plain": [
       "Retrieving MaterialsDoc documents:   0%|          | 0/1 [00:00<?, ?it/s]"
      ]
     },
     "metadata": {},
     "output_type": "display_data"
    },
    {
     "data": {
      "application/vnd.jupyter.widget-view+json": {
       "model_id": "72c8628314b442789d5d166feea5eddf",
       "version_major": 2,
       "version_minor": 0
      },
      "text/plain": [
       "Retrieving ElectronicStructureDoc documents:   0%|          | 0/1 [00:00<?, ?it/s]"
      ]
     },
     "metadata": {},
     "output_type": "display_data"
    },
    {
     "data": {
      "application/vnd.jupyter.widget-view+json": {
       "model_id": "39c13cbe548d4258adfa82821d787d8d",
       "version_major": 2,
       "version_minor": 0
      },
      "text/plain": [
       "Retrieving ElectronicStructureDoc documents:   0%|          | 0/1 [00:00<?, ?it/s]"
      ]
     },
     "metadata": {},
     "output_type": "display_data"
    },
    {
     "data": {
      "application/vnd.jupyter.widget-view+json": {
       "model_id": "888b83bd5afc466a9c0caaf1eabaa419",
       "version_major": 2,
       "version_minor": 0
      },
      "text/plain": [
       "Retrieving PhononBSDOSDoc documents:   0%|          | 0/1 [00:00<?, ?it/s]"
      ]
     },
     "metadata": {},
     "output_type": "display_data"
    },
    {
     "data": {
      "application/vnd.jupyter.widget-view+json": {
       "model_id": "ca888e1de9a74251bd1e5f9b480e37db",
       "version_major": 2,
       "version_minor": 0
      },
      "text/plain": [
       "Retrieving PhononBSDOSDoc documents:   0%|          | 0/1 [00:00<?, ?it/s]"
      ]
     },
     "metadata": {},
     "output_type": "display_data"
    }
   ],
   "source": [
    "with MPRester(mp_key) as m:\n",
    "    prim_struc = m.get_structure_by_material_id(mp_id)\n",
    "    el_bs = m.get_bandstructure_by_material_id(mp_id)\n",
    "    el_dos = m.get_dos_by_material_id(mp_id)\n",
    "    ph_bs = m.get_phonon_bandstructure_by_material_id(mp_id)\n",
    "    ph_dos = m.get_phonon_dos_by_material_id(mp_id)\n",
    "conv_struc = SpacegroupAnalyzer(prim_struc).get_conventional_standard_structure()\n",
    "symmops = SpacegroupAnalyzer(conv_struc).get_space_group_operations()\n",
    "sites = conv_struc.sites"
   ]
  },
  {
   "cell_type": "markdown",
   "id": "8f2169bb",
   "metadata": {},
   "source": [
    "# 3 éléments de symétrie"
   ]
  },
  {
   "cell_type": "code",
   "execution_count": 90,
   "id": "150c12ca",
   "metadata": {},
   "outputs": [
    {
     "name": "stdout",
     "output_type": "stream",
     "text": [
      "1:\n",
      "Rot:\n",
      "[[-1.  0.  0.]\n",
      " [ 0.  1.  0.]\n",
      " [ 0.  0. -1.]]\n",
      "tau\n",
      "[0. 0. 0.] \n",
      "\n",
      "Avant symétrie: [0.75 0.75 0.75]\n",
      "Après symétrie: [-0.75  0.75 -0.75]\n"
     ]
    },
    {
     "data": {
      "application/vnd.jupyter.widget-view+json": {
       "model_id": "e648b80e6bb2434fa6d617dde18898e1",
       "version_major": 2,
       "version_minor": 0
      },
      "text/plain": [
       "JsmolView(layout=Layout(align_self='stretch', height='400px'))"
      ]
     },
     "metadata": {},
     "output_type": "display_data"
    }
   ],
   "source": [
    "i = 6\n",
    "print(symmops[i],\"\\n\")\n",
    "\n",
    "l = 2\n",
    "at1 = sites[l]\n",
    "op1 = symmops[i]\n",
    "\n",
    "pos_init1 = at1.frac_coords\n",
    "print(\"Avant symétrie:\",pos_init1)\n",
    "\n",
    "pos_final1 = op1.operate(pos_init1)\n",
    "print(\"Après symétrie:\",pos_final1)\n",
    "\n",
    "# représentation 3D\n",
    "view1 = quick_view(conv_struc)\n",
    "display(view1)\n",
    "view1.script('draw SYMOP ' + str(i+1) + ' {atomno = ' + str(4) + '}')"
   ]
  },
  {
   "cell_type": "markdown",
   "id": "675d316b",
   "metadata": {},
   "source": [
    "# Premier élément de symétrie\n",
    "Le premier élément de symétrie fait passer des coordonnées (x,y,z) aux coordonnées (-x,y,-z). Il s'agit d'une rotation du deuxième ordre (de 180°) autour de l'axe b. \n",
    "La matrice de rotation représentant cette opération est :\n",
    "\n",
    "\\begin{pmatrix}\n",
    "-1 & 0 & 0\\\\\n",
    "0 & 1 & 0\\\\\n",
    "0 & 0 & -1\n",
    "\\end{pmatrix}\n",
    "\n",
    "Le vecteur représentant la translation est nul: $\\begin{pmatrix}\n",
    "0 & 0 & 0\n",
    "\\end{pmatrix}$\n",
    "\n",
    "Cet élément est appliqué à l'atome Li dont les coordonnées réduites sont : $\\begin{pmatrix}\n",
    "0.75 & 0.75 & 0.75\n",
    "\\end{pmatrix} \\rightarrow \\begin{pmatrix}\n",
    "-0.75 & 0.75 & -0.75\n",
    "\\end{pmatrix}$"
   ]
  },
  {
   "cell_type": "code",
   "execution_count": 91,
   "id": "ce7210a7",
   "metadata": {},
   "outputs": [
    {
     "name": "stdout",
     "output_type": "stream",
     "text": [
      "2:\n",
      "Rot:\n",
      "[[0. 1. 0.]\n",
      " [1. 0. 0.]\n",
      " [0. 0. 1.]]\n",
      "tau\n",
      "[0. 0. 0.] \n",
      "\n",
      "Avant symétrie: [0.75 0.25 0.75]\n",
      "Après symétrie: [0.25 0.75 0.75]\n"
     ]
    },
    {
     "data": {
      "application/vnd.jupyter.widget-view+json": {
       "model_id": "5edbcf6471f84e69b9e9ff99c058f3c9",
       "version_major": 2,
       "version_minor": 0
      },
      "text/plain": [
       "JsmolView(layout=Layout(align_self='stretch', height='400px'))"
      ]
     },
     "metadata": {},
     "output_type": "display_data"
    }
   ],
   "source": [
    "j = 5\n",
    "print(symmops[j],\"\\n\")\n",
    "\n",
    "\n",
    "m = 4\n",
    "at2 = sites[m]\n",
    "op2 = symmops[j]\n",
    "\n",
    "pos_init2 = at2.frac_coords\n",
    "print(\"Avant symétrie:\",pos_init2)\n",
    " \n",
    "pos_final2 = op2.operate(pos_init2)\n",
    "print(\"Après symétrie:\",pos_final2)\n",
    "\n",
    "# représentation 3D\n",
    "view2 = quick_view(conv_struc)\n",
    "display(view2)\n",
    "view2.script('draw SYMOP ' + str(j + 1) + ' {atomno = ' + str(m + 1) + '}')"
   ]
  },
  {
   "cell_type": "markdown",
   "id": "15e079d2",
   "metadata": {},
   "source": [
    "# Deuxième élément de symétrie\n",
    "Le deuxième élément de symétrie fait passer des coordonnées (x,y,z) aux coordonnées (y,x,z). Il s'agit d'un plan miroir m, le plan $\\begin{pmatrix}\n",
    "1 & \\bar{1} & 0\n",
    "\\end{pmatrix}\n",
    "$. \n",
    "La matrice de rotation représentant cette opération est :\n",
    "\n",
    "\\begin{pmatrix}\n",
    "0 & 1 & 0\\\\\n",
    "1 & 0 & 0\\\\\n",
    "0 & 0 & 1\n",
    "\\end{pmatrix}\n",
    "\n",
    "Le vecteur représentant la translation est nul: $\\begin{pmatrix}\n",
    "0 & 0 & 0\n",
    "\\end{pmatrix}$\n",
    "\n",
    "Cet élément est appliqué à l'atome Zn dont les coordonnées réduites sont : $\\begin{pmatrix}\n",
    "0.75 & 0.25 & 0.75\n",
    "\\end{pmatrix} \\rightarrow \\begin{pmatrix}\n",
    "0.25 & 0.75 & 0.75\n",
    "\\end{pmatrix}$"
   ]
  },
  {
   "cell_type": "code",
   "execution_count": 92,
   "id": "cc27477d",
   "metadata": {},
   "outputs": [
    {
     "name": "stdout",
     "output_type": "stream",
     "text": [
      "3:\n",
      "Rot:\n",
      "[[1. 0. 0.]\n",
      " [0. 1. 0.]\n",
      " [0. 0. 1.]]\n",
      "tau\n",
      "[0.5 0.5 0. ] \n",
      "\n",
      "Avant symétrie: [0. 0. 0.]\n",
      "Après symétrie: [0.5 0.5 0. ]\n"
     ]
    },
    {
     "data": {
      "application/vnd.jupyter.widget-view+json": {
       "model_id": "b84c66282f0a4d42811349fcc3d9be74",
       "version_major": 2,
       "version_minor": 0
      },
      "text/plain": [
       "JsmolView(layout=Layout(align_self='stretch', height='400px'))"
      ]
     },
     "metadata": {},
     "output_type": "display_data"
    }
   ],
   "source": [
    "k = 24\n",
    "print(symmops[k],\"\\n\")\n",
    "\n",
    "n = 8\n",
    "at3 = sites[n]\n",
    "op3 = symmops[k]\n",
    "\n",
    "pos_init3 = at3.frac_coords\n",
    "print(\"Avant symétrie:\",pos_init3)\n",
    "\n",
    "pos_final3 = op3.operate(pos_init3)\n",
    "print(\"Après symétrie:\",pos_final3)\n",
    "\n",
    "# représentation 3D\n",
    "view3 = quick_view(conv_struc)\n",
    "display(view3)\n",
    "view3.script('draw SYMOP ' + str(k + 1) + ' {atomno = ' + str(n + 1) + '}')"
   ]
  },
  {
   "cell_type": "markdown",
   "id": "07ff1808",
   "metadata": {},
   "source": [
    "# Troisième élément de symétrie\n",
    "Le troisième élément de symétrie fait passer des coordonnées (x,y,z) aux coordonnées (x+1/2,y+1/2,z). Il s'agit d'une translation pure.\n",
    "La matrice de rotation représentant cette opération est donc la matrice identité:\n",
    "\n",
    "\\begin{pmatrix}\n",
    "1 & 0 & 0\\\\\n",
    "0 & 1 & 0\\\\\n",
    "0 & 0 & 1\n",
    "\\end{pmatrix}\n",
    "\n",
    "Le vecteur représentant la translation est $\\begin{pmatrix}\n",
    "0.5 & 0.5 & 0\n",
    "\\end{pmatrix}$.\n",
    "\n",
    "Cet élément est appliqué à l'atome P dont les coordonnées réduites sont : $\\begin{pmatrix}\n",
    "0 & 0 & 0\n",
    "\\end{pmatrix} \\rightarrow \\begin{pmatrix}\n",
    "0.5 & 0.5 & 0\n",
    "\\end{pmatrix}$"
   ]
  }
 ],
 "metadata": {
  "kernelspec": {
   "display_name": "Python 3 (ipykernel)",
   "language": "python",
   "name": "python3"
  },
  "language_info": {
   "codemirror_mode": {
    "name": "ipython",
    "version": 3
   },
   "file_extension": ".py",
   "mimetype": "text/x-python",
   "name": "python",
   "nbconvert_exporter": "python",
   "pygments_lexer": "ipython3",
   "version": "3.10.12"
  }
 },
 "nbformat": 4,
 "nbformat_minor": 5
}
